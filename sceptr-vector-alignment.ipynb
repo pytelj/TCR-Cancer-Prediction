{
  "cells": [
    {
      "cell_type": "markdown",
      "metadata": {},
      "source": [
        "# SCEPTR Vector Alignment\n",
        "\n",
        "This notebook examines the alignment among the scoring layer weight vectors and classifying layer weight vectors for multiple runs. Specifically:\n",
        "\n",
        "1. Gather the best epoch for each run.\n",
        "2. For each run, loads the model checkpoint and extracts:\n",
        "   - `scoring_linear1.weight` (shape `[1,64]`)\n",
        "   - `classifying_linear1.weight` (shape `[1,64]`)\n",
        "3. Compares them using angles (cosine similarity) within each run (scoring vs classifying), and across runs (e.g. run i vs run j)."
      ]
    },
    {
      "cell_type": "code",
      "execution_count": 16,
      "metadata": {},
      "outputs": [],
      "source": [
        "import os\n",
        "import sys\n",
        "import torch\n",
        "import numpy as np\n",
        "import pandas as pd\n",
        "import math\n",
        "from pathlib import Path\n",
        "import matplotlib.pyplot as plt\n",
        "\n",
        "from src.model import load_trained, sceptr_unidirectional\n",
        "\n",
        "plt.rcParams[\"figure.figsize\"] = (10, 8)\n",
        "plt.rcParams[\"figure.autolayout\"] = True\n",
        "\n",
        "import warnings\n",
        "warnings.simplefilter(\"ignore\")"
      ]
    },
    {
      "cell_type": "markdown",
      "metadata": {},
      "source": [
        "## 1. Configuration\n",
        "Adjust the `runs` dictionary so it maps each run index (0..9) to the best epoch. Then we’ll load each run’s checkpoint from `results-new-beta/sceptr/`.\n"
      ]
    },
    {
      "cell_type": "code",
      "execution_count": 17,
      "metadata": {},
      "outputs": [],
      "source": [
        "bestepochs_alpha = {\n",
        "    0: 49,\n",
        "    1: 27,\n",
        "    2: 16,\n",
        "    3: 11,\n",
        "    4: 43,\n",
        "    5: 15,\n",
        "    6: 35,\n",
        "    7: 49,\n",
        "    8: 15,\n",
        "    9: 20,\n",
        "}\n",
        "\n",
        "bestepochs_beta = {\n",
        "    0: 33,\n",
        "    1: 49,\n",
        "    2: 32,\n",
        "    3: 20,\n",
        "    4: 49,\n",
        "    5: 10,\n",
        "    6: 49,\n",
        "    7: 43,\n",
        "    8: 49,\n",
        "    9: 49,\n",
        "}\n",
        "\n",
        "# comment/uncomment either alpha or beta to use it\n",
        "runs = bestepochs_alpha\n",
        "base_dir = Path.cwd() / \"results-new-alpha\" / \"sceptr\"\n",
        "\n",
        "# runs = bestepochs_beta\n",
        "# base_dir = Path.cwd() / \"results-new-beta\" / \"sceptr\"\n",
        "\n",
        "model_dict = {}\n",
        "\n",
        "for run_idx, best_epoch in runs.items():\n",
        "    model_path = base_dir / f\"trained-sceptr-{run_idx}\" / f\"Epoch {best_epoch}\" / f\"classifier-{best_epoch}.pth\"\n",
        "    model = load_trained(model_path, sceptr_unidirectional)\n",
        "    model.eval()\n",
        "    model_dict[run_idx] = model\n",
        "    # print(f\"Loaded run={run_idx}, epoch={best_epoch}: {model_path}\")"
      ]
    },
    {
      "cell_type": "markdown",
      "metadata": {},
      "source": [
        "## 2. Compare Scoring vs Classifying Weight Vector (Within Each Run)\n",
        "For each run, compute:\n",
        "- Cosine similarity between `scoring_linear1.weight` and `classifying_linear1.weight`\n",
        "- The angle in degrees\n"
      ]
    },
    {
      "cell_type": "code",
      "execution_count": 18,
      "metadata": {},
      "outputs": [
        {
          "data": {
            "text/html": [
              "<div>\n",
              "<style scoped>\n",
              "    .dataframe tbody tr th:only-of-type {\n",
              "        vertical-align: middle;\n",
              "    }\n",
              "\n",
              "    .dataframe tbody tr th {\n",
              "        vertical-align: top;\n",
              "    }\n",
              "\n",
              "    .dataframe thead th {\n",
              "        text-align: right;\n",
              "    }\n",
              "</style>\n",
              "<table border=\"1\" class=\"dataframe\">\n",
              "  <thead>\n",
              "    <tr style=\"text-align: right;\">\n",
              "      <th></th>\n",
              "      <th>cosine_sim</th>\n",
              "      <th>angle_deg</th>\n",
              "    </tr>\n",
              "    <tr>\n",
              "      <th>run</th>\n",
              "      <th></th>\n",
              "      <th></th>\n",
              "    </tr>\n",
              "  </thead>\n",
              "  <tbody>\n",
              "    <tr>\n",
              "      <th>0</th>\n",
              "      <td>0.070353</td>\n",
              "      <td>85.965742</td>\n",
              "    </tr>\n",
              "    <tr>\n",
              "      <th>1</th>\n",
              "      <td>0.007424</td>\n",
              "      <td>89.574636</td>\n",
              "    </tr>\n",
              "    <tr>\n",
              "      <th>2</th>\n",
              "      <td>-0.059652</td>\n",
              "      <td>93.419824</td>\n",
              "    </tr>\n",
              "    <tr>\n",
              "      <th>3</th>\n",
              "      <td>-0.181413</td>\n",
              "      <td>100.452080</td>\n",
              "    </tr>\n",
              "    <tr>\n",
              "      <th>4</th>\n",
              "      <td>0.133731</td>\n",
              "      <td>82.314732</td>\n",
              "    </tr>\n",
              "    <tr>\n",
              "      <th>5</th>\n",
              "      <td>-0.042942</td>\n",
              "      <td>92.461171</td>\n",
              "    </tr>\n",
              "    <tr>\n",
              "      <th>6</th>\n",
              "      <td>0.011301</td>\n",
              "      <td>89.352504</td>\n",
              "    </tr>\n",
              "    <tr>\n",
              "      <th>7</th>\n",
              "      <td>0.095515</td>\n",
              "      <td>84.519048</td>\n",
              "    </tr>\n",
              "    <tr>\n",
              "      <th>8</th>\n",
              "      <td>0.188767</td>\n",
              "      <td>79.119146</td>\n",
              "    </tr>\n",
              "    <tr>\n",
              "      <th>9</th>\n",
              "      <td>0.165256</td>\n",
              "      <td>80.487885</td>\n",
              "    </tr>\n",
              "  </tbody>\n",
              "</table>\n",
              "</div>"
            ],
            "text/plain": [
              "     cosine_sim   angle_deg\n",
              "run                        \n",
              "0      0.070353   85.965742\n",
              "1      0.007424   89.574636\n",
              "2     -0.059652   93.419824\n",
              "3     -0.181413  100.452080\n",
              "4      0.133731   82.314732\n",
              "5     -0.042942   92.461171\n",
              "6      0.011301   89.352504\n",
              "7      0.095515   84.519048\n",
              "8      0.188767   79.119146\n",
              "9      0.165256   80.487885"
            ]
          },
          "execution_count": 18,
          "metadata": {},
          "output_type": "execute_result"
        }
      ],
      "source": [
        "import math\n",
        "\n",
        "run_scoring_classifying = {}\n",
        "\n",
        "for run_idx, mdl in model_dict.items():\n",
        "    w_scoring = mdl.scoring_linear1.weight.detach().cpu().numpy()[0]\n",
        "    w_class   = mdl.classifying_linear1.weight.detach().cpu().numpy()[0]\n",
        "\n",
        "    # normalise\n",
        "    w_scoring_n = w_scoring / (np.linalg.norm(w_scoring) + 1e-9)\n",
        "    w_class_n   = w_class / (np.linalg.norm(w_class) + 1e-9)\n",
        "\n",
        "    cos_sim = np.dot(w_scoring_n, w_class_n)\n",
        "    angle   = math.degrees(math.acos(max(min(cos_sim,1),-1)))\n",
        "\n",
        "    run_scoring_classifying[run_idx] = {\n",
        "        'cosine_sim': cos_sim,\n",
        "        'angle_deg': angle\n",
        "    }\n",
        "\n",
        "# display\n",
        "df_sc_class = pd.DataFrame(run_scoring_classifying).T\n",
        "df_sc_class.index.name = 'run'\n",
        "df_sc_class"
      ]
    },
    {
      "cell_type": "markdown",
      "metadata": {},
      "source": [
        "## 3. Compare Scoring Vectors Across Runs\n",
        "Produce a matrix `[num_runs, num_runs]` of pairwise cosine similarities for the scoring layer. Then the same for the classifying layer.\n"
      ]
    },
    {
      "cell_type": "code",
      "execution_count": 19,
      "metadata": {},
      "outputs": [],
      "source": [
        "run_indices = sorted(list(model_dict.keys()))\n",
        "n_runs = len(run_indices)\n",
        "\n",
        "score_mat = np.zeros((n_runs, n_runs))\n",
        "class_mat = np.zeros((n_runs, n_runs))\n",
        "\n",
        "score_vectors = []  # shape [n_runs, 64]\n",
        "class_vectors = []  # shape [n_runs, 64]\n",
        "\n",
        "for r in run_indices:\n",
        "    w_s = model_dict[r].scoring_linear1.weight.detach().cpu().numpy()[0]\n",
        "    w_s /= (np.linalg.norm(w_s) + 1e-9)\n",
        "    score_vectors.append(w_s)\n",
        "\n",
        "    w_c = model_dict[r].classifying_linear1.weight.detach().cpu().numpy()[0]\n",
        "    w_c /= (np.linalg.norm(w_c) + 1e-9)\n",
        "    class_vectors.append(w_c)\n",
        "\n",
        "score_vectors = np.array(score_vectors)\n",
        "class_vectors = np.array(class_vectors)\n",
        "\n",
        "for i in range(n_runs):\n",
        "    for j in range(n_runs):\n",
        "        # dot product for scoring layer\n",
        "        sc_cos = np.dot(score_vectors[i], score_vectors[j])\n",
        "        score_mat[i,j] = sc_cos\n",
        "\n",
        "        # dot product for classifying layer\n",
        "        cl_cos = np.dot(class_vectors[i], class_vectors[j])\n",
        "        class_mat[i,j] = cl_cos"
      ]
    },
    {
      "cell_type": "markdown",
      "metadata": {},
      "source": [
        "### 3.1: Visualise Cosine Similarity Matrices\n",
        "Plot them as heatmaps. Values close to 1 mean the vectors are strongly aligned; negative means opposite directions.\n"
      ]
    },
    {
      "cell_type": "code",
      "execution_count": 20,
      "metadata": {},
      "outputs": [
        {
          "data": {
            "image/png": "[encoded data removed]",
            "text/plain": [
              "<Figure size 1200x600 with 4 Axes>"
            ]
          },
          "metadata": {},
          "output_type": "display_data"
        }
      ],
      "source": [
        "fig, axs = plt.subplots(1, 2, figsize=(12,6))\n",
        "im0 = axs[0].imshow(score_mat, cmap=\"coolwarm\", vmin=-1, vmax=1)\n",
        "axs[0].set_title(\"Scoring Layer Cosine Similarities\")\n",
        "plt.colorbar(im0, ax=axs[0])\n",
        "\n",
        "im1 = axs[1].imshow(class_mat, cmap=\"coolwarm\", vmin=-1, vmax=1)\n",
        "axs[1].set_title(\"Classifying Layer Cosine Similarities\")\n",
        "plt.colorbar(im1, ax=axs[1])\n",
        "\n",
        "for ax in axs:\n",
        "    ax.set_xticks(range(n_runs))\n",
        "    ax.set_xticklabels(run_indices)\n",
        "    ax.set_yticks(range(n_runs))\n",
        "    ax.set_yticklabels(run_indices)\n",
        "\n",
        "plt.show()"
      ]
    }
  ],
  "metadata": {
    "kernelspec": {
      "display_name": ".venv",
      "language": "python",
      "name": "python3"
    },
    "language_info": {
      "codemirror_mode": {
        "name": "ipython",
        "version": 3
      },
      "file_extension": ".py",
      "mimetype": "text/x-python",
      "name": "python",
      "nbconvert_exporter": "python",
      "pygments_lexer": "ipython3",
      "version": "3.9.21"
    }
  },
  "nbformat": 4,
  "nbformat_minor": 5
}
